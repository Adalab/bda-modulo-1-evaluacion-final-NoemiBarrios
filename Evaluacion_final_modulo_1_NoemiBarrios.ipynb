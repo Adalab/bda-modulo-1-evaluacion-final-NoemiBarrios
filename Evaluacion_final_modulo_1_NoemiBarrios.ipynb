{
 "cells": [
  {
   "cell_type": "markdown",
   "id": "57035436",
   "metadata": {},
   "source": [
    "# Evaluación Final Módulo 1"
   ]
  },
  {
   "cell_type": "markdown",
   "id": "df58a43f",
   "metadata": {},
   "source": [
    "## Ejercicio"
   ]
  },
  {
   "cell_type": "markdown",
   "id": "2a108b92",
   "metadata": {},
   "source": [
    "####  • A lo largo de esta evaluación tendrás que crear una clase llamada TiendaOnline que cumpla los siguientes requisitos:\n",
    "1. `inventario` (lista de diccionarios): Un atributo para almacenar los productos en el inventario.\n",
    "Cada producto debe ser representado como un diccionario con las siguientes claves: `'nombre'`, `'precio'`, y `'cantidad'`.\n",
    "Al principio deberá ser una lista vacía. Ejemplo de como debería ser:\n",
    "```python\n",
    "[{'nombre': 'Camisa', 'precio': 20, 'cantidad': 40},\n",
    "{'nombre': 'Pantalón', 'precio': 30, 'cantidad': 30}]\n",
    "```\n",
    "2. `clientes` (diccionario): Un atributo para llevar un registro de los clientes de la tienda.\n",
    "Cada cliente debe ser representado como un diccionario con las siguientes claves: `'nombre'` y `'email'`.\n",
    "Al inicio deberá ser un diccionario vacío. Además, cada cliente debe tener un historial de compras. Deberá parecerse a:\n",
    "```python\n",
    "{'Cliente1': {'email': 'cliente1@email.com', 'compras': []},\n",
    "'Cliente2': {'email': 'cliente2@email.com', 'compras': []}}\n",
    "```\n",
    "3. `ventas_totales` (float): Un atributo para llevar un registro de las ventas totales de la tienda.\n",
    "Inicializalo con valor 0.\n",
    "\n",
    "#### ◦ La clase TiendaOnline debe tener los siguientes métodos:"
   ]
  },
  {
   "cell_type": "code",
   "execution_count": 39,
   "id": "472804f3",
   "metadata": {},
   "outputs": [],
   "source": [
    "class TiendaOnline:\n",
    "\n",
    "    def __init__(self, inventario, clientes, ventas_totales=0):\n",
    "\n",
    "        self.inventario = inventario\n",
    "        self.clientes = clientes\n",
    "        self.ventas_totales = ventas_totales\n",
    "\n",
    "\n",
    "    def agregar_productos(self, nombre, precio, cantidad):\n",
    "\n",
    "        #Solo quiero que la primera letra del producto esté en mayúscula\n",
    "        nombre = nombre.capitalize()\n",
    "\n",
    "        for producto in self.inventario:\n",
    "            if producto[\"nombre\"] == nombre: \n",
    "                #Si el producto ya está en el inventario solo modifico la cantidad\n",
    "                producto[\"cantidad\"] += cantidad\n",
    "                print(f\"Se ha modificado la cantidad del producto {nombre} a {cantidad} unidades\")\n",
    "                return\n",
    "            \n",
    "        #Si el producto no está en el inventario se agrega al mismo\n",
    "        nuevo_producto = {\"nombre\": nombre, \"precio\": precio, \"cantidad\": cantidad}\n",
    "        self.inventario.append(nuevo_producto)\n",
    "        print(f\"Se ha añadido un nuevo producto al inventario: {nombre}, precio: {precio}€, cantidad: {cantidad} unidades\")\n",
    "    \n",
    "    \n",
    "    def ver_inventario(self):\n",
    "        for producto in self.inventario:\n",
    "            print(f\"Nombre: {producto[\"nombre\"]}, Precio: {producto[\"precio\"]}€, Cantidad: {producto[\"cantidad\"]} unidades\")\n",
    "\n",
    "\n",
    "    def buscar_productos(self, nombre):\n",
    "\n",
    "        for producto in self.inventario:\n",
    "            if producto[\"nombre\"] == nombre.capitalize(): #También se podria hacer de esta forma para conseguir la primera en mayúscula\n",
    "                print(f\"Nombre: {producto[\"nombre\"]}, Precio: {producto[\"precio\"]}€, Cantidad: {producto[\"cantidad\"]} unidades\")\n",
    "                return #Para que me devuelva el mensaje pero al mismo tiempo me lo guarde\n",
    "        \n",
    "        #Si no se encuentra el producto    \n",
    "        print(f\"El producto {nombre} no está disponible en la tienda.\")\n",
    "\n",
    "\n",
    "    def actualizar_stock(self, nombre, cantidad):\n",
    "\n",
    "        for producto in self.inventario:\n",
    "            if producto[\"nombre\"] == nombre.capitalize():\n",
    "                producto[\"cantidad\"] += cantidad\n",
    "                print(f\"El producto {nombre} se ha actualizado, la cantidad actual es: {producto['cantidad']} unidades\")\n",
    "                return #Aquí pasa lo mismo, quiero un mensaje cuando se actualiza el stock pero también se guarda\n",
    "        \n",
    "        #Si no se encuentra el producto\n",
    "        print(f\"No ha sido posible actualizar el inventario, el producto {nombre} no existe\")\n",
    "        \n",
    "    \n",
    "    def eliminar_producto(self, nombre):\n",
    "\n",
    "        for producto in self.inventario:\n",
    "            if producto[\"nombre\"] == nombre.capitalize():\n",
    "                self.inventario.remove(producto)\n",
    "                print(f\"El producto {nombre} ha sido eliminado\")\n",
    "                break\n",
    "\n",
    "        #El return va a la altura del for para que coja todos los elementos del inventario mientras hace el bucle y no solo el primero    \n",
    "        return \"Ese producto no existe en el inventario\" \n",
    "\n",
    "\n",
    "    def calcular_valor_inventario(self):\n",
    "\n",
    "        valor_total = 0\n",
    "\n",
    "        for producto in self.inventario:\n",
    "            valor_total += producto['precio'] * producto['cantidad']\n",
    "\n",
    "        #El print va a la altura del for para que coja todos los elementos del inventario mientras hace el bucle y no solo el primero\n",
    "        #En este caso es print porque no me interesa que el valor total se guarde porque el inventario va variando y solo quiero saberlo en un momento puntual\n",
    "        print(f\"El valor total del inventario es {valor_total}€\")\n",
    "\n",
    "    \n",
    "    def realizar_compra(self):\n",
    "\n",
    "        #Determino fuera las variables que voy a usar en el bucle\n",
    "        self.ver_inventario()\n",
    "        carrito = {}\n",
    "        total_compra = 0\n",
    "        tipo_producto = input(\"Hola, bienvenida a la tienda, ¿qué quieres comprar?\").capitalize()\n",
    "\n",
    "        #El bucle no para hasta que se escribe \"exit\"\n",
    "        while tipo_producto.lower() != \"salir\":\n",
    "\n",
    "            for producto in self.inventario:\n",
    "                if producto[\"nombre\"].lower() == tipo_producto.lower():\n",
    "                    cantidad_producto = int(input(f\"¡Genial! ¿Cuántas unidades de {tipo_producto} querrías?\"))\n",
    "\n",
    "                    #Se modifica la cantidad de productos en el inventario y da el aviso si no hay suficiente stock\n",
    "                    if cantidad_producto > producto[\"cantidad\"]:\n",
    "                        print(f\"No hay suficiente stock. Solo quedan {producto[\"cantidad\"]} unidades de {tipo_producto}\")\n",
    "                    else:\n",
    "                        producto[\"cantidad\"] -= cantidad_producto\n",
    "\n",
    "                        #Se añaden los productos con la cantidad deseada en el carrito\n",
    "                        if tipo_producto in carrito:\n",
    "                            carrito[tipo_producto] += cantidad_producto\n",
    "                        else:\n",
    "                            carrito.update({tipo_producto:cantidad_producto})\n",
    "\n",
    "            #Se vuelve a pedir al cliente que elija otro podructo a comprar\n",
    "            tipo_producto = input(\"¿Quieres añadir algo más al carrito?\").capitalize()\n",
    "\n",
    "            #Se rompe el bucle\n",
    "            if tipo_producto.lower() == \"salir\":\n",
    "                break\n",
    "\n",
    "        #Se hace el calculo de lo que se ha añadido en el carrito                \n",
    "        for i in carrito:\n",
    "            for producto in self.inventario:\n",
    "                if i == producto[\"nombre\"]:\n",
    "                    total_compra += carrito[i] * producto[\"precio\"]\n",
    "                    \n",
    "        print(f\"Compra finalizada. El total de su compra es {total_compra}\")\n",
    "        return carrito\n"
   ]
  },
  {
   "cell_type": "markdown",
   "id": "7c97091e",
   "metadata": {},
   "source": [
    "#### 1. agregar_producto(self, nombre, precio, cantidad): \n",
    "Este método agrega un producto al inventario o actualiza su\n",
    "cantidad si ya existe. Debe recibir el nombre, precio y cantidad del producto como parámetros.\n",
    " Itera a través del inventario y compara los nombres de los productos con el nombre proporcionado.\n",
    " Si el producto ya existe, actualiza la cantidad. Es decir, a la cantidad que ya hay, le suma la que le hemos pasado. Y ya\n",
    "está.\n",
    " Si no existe, agrega un nuevo producto al inventario."
   ]
  },
  {
   "cell_type": "code",
   "execution_count": 40,
   "id": "06d018a7",
   "metadata": {},
   "outputs": [
    {
     "name": "stdout",
     "output_type": "stream",
     "text": [
      "Se ha añadido un nuevo producto al inventario: Camiseta, precio: 15€, cantidad: 50 unidades\n",
      "Se ha añadido un nuevo producto al inventario: Pantalón, precio: 23€, cantidad: 50 unidades\n",
      "Se ha modificado la cantidad del producto Camiseta a 15 unidades\n",
      "Se ha añadido un nuevo producto al inventario: Zapatos, precio: 25€, cantidad: 40 unidades\n",
      "Se ha añadido un nuevo producto al inventario: Cinturón, precio: 12.5€, cantidad: 10 unidades\n",
      "Se ha añadido un nuevo producto al inventario: Falda, precio: 22.99€, cantidad: 40 unidades\n",
      "Se ha añadido un nuevo producto al inventario: Sudadera, precio: 35€, cantidad: 50 unidades\n",
      "Se ha añadido un nuevo producto al inventario: Bolso, precio: 32.5€, cantidad: 20 unidades\n"
     ]
    }
   ],
   "source": [
    "tienda = TiendaOnline([], {})\n",
    "\n",
    "tienda.agregar_productos(\"camiseta\", 15, 50)\n",
    "tienda.agregar_productos(\"pantalón\", 23, 50)\n",
    "tienda.agregar_productos(\"camiseta\", 15, 15)\n",
    "tienda.agregar_productos(\"zapatos\", 25, 40)\n",
    "tienda.agregar_productos(\"cinturón\", 12.50, 10)\n",
    "tienda.agregar_productos(\"falda\", 22.99, 40)\n",
    "tienda.agregar_productos(\"sudadera\", 35, 50)\n",
    "tienda.agregar_productos(\"bolso\", 32.50, 20)"
   ]
  },
  {
   "cell_type": "markdown",
   "id": "709f5da9",
   "metadata": {},
   "source": [
    "#### 2. ver_inventario(self): \n",
    "Muestra el inventario de productos con sus detalles.\n",
    " Utiliza un bucle for para recorrer el inventario.\n",
    " Imprime los detalles (nombre, precio, cantidad) de cada producto.\n",
    " Debería verse:\n",
    "Nombre: Camisa, Precio: $20, Cantidad: 50\n",
    "Nombre: Pantalón, Precio: $30, Cantidad: 30\n",
    "Nombre: Zapatos, Precio: $50, Cantidad: 40\n",
    "Nombre: Camisa, Precio: $20, Cantidad: 50"
   ]
  },
  {
   "cell_type": "code",
   "execution_count": 41,
   "id": "842ea3e7",
   "metadata": {},
   "outputs": [
    {
     "name": "stdout",
     "output_type": "stream",
     "text": [
      "Nombre: Camiseta, Precio: 15€, Cantidad: 65 unidades\n",
      "Nombre: Pantalón, Precio: 23€, Cantidad: 50 unidades\n",
      "Nombre: Zapatos, Precio: 25€, Cantidad: 40 unidades\n",
      "Nombre: Cinturón, Precio: 12.5€, Cantidad: 10 unidades\n",
      "Nombre: Falda, Precio: 22.99€, Cantidad: 40 unidades\n",
      "Nombre: Sudadera, Precio: 35€, Cantidad: 50 unidades\n",
      "Nombre: Bolso, Precio: 32.5€, Cantidad: 20 unidades\n"
     ]
    }
   ],
   "source": [
    "tienda.ver_inventario()"
   ]
  },
  {
   "cell_type": "markdown",
   "id": "8523e00f",
   "metadata": {},
   "source": [
    "#### 3. buscar_producto(self, nombre): \n",
    "Busca un producto en el inventario por nombre y muestra sus detalles si se encuentra.\n",
    "Debe recibir el nombre del producto como parámetro.\n",
    " Utiliza un bucle for para recorrer el inventario.\n",
    " Compara los nombres de los productos con el nombre proporcionado.\n",
    " Si se encuentra el producto, imprime sus detalles.\n",
    " Debe imprimir algo así:\n",
    "Nombre: Camisa, Precio: $20, Cantidad: 40"
   ]
  },
  {
   "cell_type": "code",
   "execution_count": 42,
   "id": "b6a7e62b",
   "metadata": {},
   "outputs": [
    {
     "name": "stdout",
     "output_type": "stream",
     "text": [
      "Nombre: Camiseta, Precio: 15€, Cantidad: 65 unidades\n",
      "El producto calcetines no está disponible en la tienda.\n"
     ]
    }
   ],
   "source": [
    "tienda.buscar_productos(\"camiseta\")\n",
    "tienda.buscar_productos(\"calcetines\")"
   ]
  },
  {
   "cell_type": "markdown",
   "id": "17a581b3",
   "metadata": {},
   "source": [
    "#### 4. actualizar_stock(self, nombre, cantidad): \n",
    "Actualiza el stock de un producto en el inventario. Debe recibir el\n",
    "nombre del producto y la cantidad a agregar o quitar como parámetros.\n",
    " Utiliza un bucle for para recorrer el inventario.\n",
    " Busca el producto por nombre.\n",
    " Actualiza la cantidad según la entrada del usuario.\n",
    " Si el producto no esta en el inventario muestra un mensaje indicándolo."
   ]
  },
  {
   "cell_type": "code",
   "execution_count": 43,
   "id": "9fe9dda3",
   "metadata": {},
   "outputs": [
    {
     "name": "stdout",
     "output_type": "stream",
     "text": [
      "El producto Zapatos se ha actualizado, la cantidad actual es: 50 unidades\n",
      "No ha sido posible actualizar el inventario, el producto calcetines no existe\n"
     ]
    }
   ],
   "source": [
    "tienda.actualizar_stock(\"Zapatos\", 10)\n",
    "tienda.actualizar_stock(\"calcetines\", 30)"
   ]
  },
  {
   "cell_type": "markdown",
   "id": "b0eb0581",
   "metadata": {},
   "source": [
    "#### 5. eliminar_producto(self, nombre): \n",
    "Elimina un producto del inventario por nombre. Debe recibir el nombre del producto\n",
    "como parámetro.\n",
    " Utiliza un bucle for para recorrer el inventario.\n",
    " Busca el producto por nombre.\n",
    " Elimina el producto del inventario si existe.\n",
    " Si el producto no esta en el inventario muestra un mensaje indicándolo."
   ]
  },
  {
   "cell_type": "code",
   "execution_count": 44,
   "id": "a9c00d2c",
   "metadata": {},
   "outputs": [
    {
     "name": "stdout",
     "output_type": "stream",
     "text": [
      "El producto zapatos ha sido eliminado\n",
      "Nombre: Camiseta, Precio: 15€, Cantidad: 65 unidades\n",
      "Nombre: Pantalón, Precio: 23€, Cantidad: 50 unidades\n",
      "Nombre: Cinturón, Precio: 12.5€, Cantidad: 10 unidades\n",
      "Nombre: Falda, Precio: 22.99€, Cantidad: 40 unidades\n",
      "Nombre: Sudadera, Precio: 35€, Cantidad: 50 unidades\n",
      "Nombre: Bolso, Precio: 32.5€, Cantidad: 20 unidades\n"
     ]
    }
   ],
   "source": [
    "tienda.eliminar_producto(\"zapatos\")\n",
    "tienda.ver_inventario()"
   ]
  },
  {
   "cell_type": "markdown",
   "id": "e9152e24",
   "metadata": {},
   "source": [
    "#### 6. calcular_valor_inventario(self): \n",
    "Calcula y muestra el valor total del inventario.\n",
    " Utiliza un bucle for para calcular el valor total del inventario.\n",
    " Itera a través del inventario y suma el valor de cada producto (precio x cantidad) y ve acumulando ese valor. Es decir,\n",
    "calcula el valor total del inventario. \n",
    "\n",
    "Ejemplo:\n",
    "    -si tenemos 5 camisas que valen 5 euros\n",
    "    -y 10 calcetines que valen 1 euro\n",
    "    - este método te tiene que devolver: 35 euros\n",
    "\n",
    "valor_camisas = 5 * 5\n",
    "valor_calcetines = 10 * 1\n",
    "valor_camisas + valor_calcetines = 35"
   ]
  },
  {
   "cell_type": "code",
   "execution_count": 45,
   "id": "5cc50e8a",
   "metadata": {},
   "outputs": [
    {
     "name": "stdout",
     "output_type": "stream",
     "text": [
      "El valor total del inventario es 5569.6€\n"
     ]
    }
   ],
   "source": [
    "tienda.calcular_valor_inventario()"
   ]
  },
  {
   "cell_type": "markdown",
   "id": "eeda3417",
   "metadata": {},
   "source": [
    "#### 7. realizar_compra(self): \n",
    "Permite a un cliente realizar una compra seleccionando productos del inventario. Debe interactuar\n",
    "con el cliente para seleccionar productos y calcular el costo total de la compra.\n",
    " Crea un carrito vacío, que sea un diccionario donde poner el nombre del producto y la cantidad que compra.\n",
    " Utiliza un bucle while para permitir al cliente realizar múltiples compras.\n",
    " Muestra el inventario (self.ver_inventario()) y solicita al cliente ingresar el nombre del producto que desea comprar y\n",
    "luego la cantidad.\n",
    " Si nos dice \"salir\", terminamos la compra.\n",
    " Registra los productos seleccionados en un carrito y actualiza el inventario.\n",
    " Calcula el costo total de la compra"
   ]
  },
  {
   "cell_type": "code",
   "execution_count": 46,
   "id": "eb45892d",
   "metadata": {},
   "outputs": [
    {
     "name": "stdout",
     "output_type": "stream",
     "text": [
      "Nombre: Camiseta, Precio: 15€, Cantidad: 65 unidades\n",
      "Nombre: Pantalón, Precio: 23€, Cantidad: 50 unidades\n",
      "Nombre: Cinturón, Precio: 12.5€, Cantidad: 10 unidades\n",
      "Nombre: Falda, Precio: 22.99€, Cantidad: 40 unidades\n",
      "Nombre: Sudadera, Precio: 35€, Cantidad: 50 unidades\n",
      "Nombre: Bolso, Precio: 32.5€, Cantidad: 20 unidades\n",
      "Compra finalizada. El total de su compra es 53\n"
     ]
    },
    {
     "data": {
      "text/plain": [
       "{'Camiseta': 2, 'Pantalón': 1}"
      ]
     },
     "execution_count": 46,
     "metadata": {},
     "output_type": "execute_result"
    }
   ],
   "source": [
    "tienda.realizar_compra()"
   ]
  },
  {
   "cell_type": "code",
   "execution_count": 47,
   "id": "ac232709",
   "metadata": {},
   "outputs": [
    {
     "name": "stdout",
     "output_type": "stream",
     "text": [
      "Nombre: Camiseta, Precio: 15€, Cantidad: 63 unidades\n",
      "Nombre: Pantalón, Precio: 23€, Cantidad: 49 unidades\n",
      "Nombre: Cinturón, Precio: 12.5€, Cantidad: 10 unidades\n",
      "Nombre: Falda, Precio: 22.99€, Cantidad: 40 unidades\n",
      "Nombre: Sudadera, Precio: 35€, Cantidad: 50 unidades\n",
      "Nombre: Bolso, Precio: 32.5€, Cantidad: 20 unidades\n"
     ]
    }
   ],
   "source": [
    "tienda.ver_inventario()"
   ]
  }
 ],
 "metadata": {
  "kernelspec": {
   "display_name": "base",
   "language": "python",
   "name": "python3"
  },
  "language_info": {
   "codemirror_mode": {
    "name": "ipython",
    "version": 3
   },
   "file_extension": ".py",
   "mimetype": "text/x-python",
   "name": "python",
   "nbconvert_exporter": "python",
   "pygments_lexer": "ipython3",
   "version": "3.12.7"
  }
 },
 "nbformat": 4,
 "nbformat_minor": 5
}
